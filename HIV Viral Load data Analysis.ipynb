{
 "cells": [
  {
   "cell_type": "markdown",
   "id": "70ff19b6",
   "metadata": {},
   "source": [
    "# Data-Driven Analysis of HIV Viral Load Status of Children and Adolescents (0-19 years) in South West Uganda: Insights and Recommendations\n",
    "### The data analysis projected was completed by Edgar Obuluk"
   ]
  },
  {
   "cell_type": "markdown",
   "id": "08f9f1c7",
   "metadata": {},
   "source": [
    "## 1.1 Introduction: \n",
    "The purpose of this project was to analyze HIV viral load data to extract valuable insights that could help improve on the delivery of HIV care and treatment services for children and adolescents in South West Uganda. Specifically, the analysis focuses on patient demographics, ART (antiretroviral therapy) regimen adherence, and viral load coverage and suppression. Additionally, this project identifies gaps in the HIV care program, particularly in relation to OVC (Orphans and Vulnerable Children) enrollment, ART regimen optimization, and Viral Load suppression.\n",
    "## 1.2 Dataset Overview\n",
    "The dataset contains information on data collected on HIV care and treatment services of children and adolescents in South West Uganda, including:\n",
    "\n",
    "- Demographic data (e.g., age, district)\n",
    "- ART regimen lines\n",
    "- Viral load status\n",
    "- OVC screening and enrollment \n",
    "- ART regimen optimization status\n",
    "\n",
    "This dataset serves as the foundation for identifying patterns, trends, and potential issues in HIV care and treatment."
   ]
  },
  {
   "cell_type": "markdown",
   "id": "37d07c6c",
   "metadata": {},
   "source": [
    "## 1.3 Importation and Initial Exploration of the Data\n",
    "The first step was to load the dataset into Python and perform an initial examination of the data to understand its structure. This helped me in assessing the quality of the data, spotted any inconsistencies, and determined the next steps in cleaning and analysis.\n",
    "\n",
    "Below is the Python code I used for Loading and Exploring Data:"
   ]
  },
  {
   "cell_type": "code",
   "execution_count": 6,
   "id": "785d5732",
   "metadata": {
    "scrolled": true
   },
   "outputs": [
    {
     "name": "stdout",
     "output_type": "stream",
     "text": [
      "<class 'pandas.core.frame.DataFrame'>\n",
      "RangeIndex: 1165 entries, 0 to 1164\n",
      "Data columns (total 24 columns):\n",
      " #   Column                                                                                                                           Non-Null Count  Dtype  \n",
      "---  ------                                                                                                                           --------------  -----  \n",
      " 0   District                                                                                                                         1165 non-null   object \n",
      " 1   Site                                                                                                                             1165 non-null   object \n",
      " 2   Sex                                                                                                                              1165 non-null   object \n",
      " 3   Age                                                                                                                              1165 non-null   int64  \n",
      " 4   AgeCat                                                                                                                           1165 non-null   object \n",
      " 5   current_art_regimen_line                                                                                                         1102 non-null   object \n",
      " 6   Current ART Regimen                                                                                                              1164 non-null   object \n",
      " 7   Optimization                                                                                                                     1164 non-null   object \n",
      " 8   DTG Based                                                                                                                        1165 non-null   object \n",
      " 9   VL Updated_                                                                                                                      1165 non-null   object \n",
      " 10  VL Suppression                                                                                                                   1165 non-null   object \n",
      " 11  VL updated (Y/N/NE)                                                                                                              1067 non-null   object \n",
      " 12  If not up-to-date VL state sample collection date                                                                                75 non-null     object \n",
      " 13  Substituted to optimal regimen (Y/N/NE)                                                                                          458 non-null    object \n",
      " 14  Switched to 2nd line (Y/N/NE)                                                                                                    132 non-null    object \n",
      " 15  No. of IACs received i.e none, 1,2, 3, 4, 5, 6                                                                                   73 non-null     float64\n",
      " 16  IAC                                                                                                                              281 non-null    object \n",
      " 17  If completed 3 IAC sessions. State date of HIVDRT sampling                                                                       2 non-null      object \n",
      " 18  TPT                        1-Never initiated         2-On INH        3-Defaulted        4-Stopped due to SE        5- Completed  990 non-null    object \n",
      " 19  MMD (Months of ART refill at last visit)                                                                                         1148 non-null   object \n",
      " 20  mmdmonths                                                                                                                        1165 non-null   int64  \n",
      " 21  MMD Received                                                                                                                     1165 non-null   object \n",
      " 22  Screened for OVC                                                                                                                 1165 non-null   object \n",
      " 23  Eligible and Enrolled in OVC                                                                                                     1165 non-null   object \n",
      "dtypes: float64(1), int64(2), object(21)\n",
      "memory usage: 218.6+ KB\n"
     ]
    },
    {
     "data": {
      "text/html": [
       "<div>\n",
       "<style scoped>\n",
       "    .dataframe tbody tr th:only-of-type {\n",
       "        vertical-align: middle;\n",
       "    }\n",
       "\n",
       "    .dataframe tbody tr th {\n",
       "        vertical-align: top;\n",
       "    }\n",
       "\n",
       "    .dataframe thead th {\n",
       "        text-align: right;\n",
       "    }\n",
       "</style>\n",
       "<table border=\"1\" class=\"dataframe\">\n",
       "  <thead>\n",
       "    <tr style=\"text-align: right;\">\n",
       "      <th></th>\n",
       "      <th>District</th>\n",
       "      <th>Site</th>\n",
       "      <th>Sex</th>\n",
       "      <th>Age</th>\n",
       "      <th>AgeCat</th>\n",
       "      <th>current_art_regimen_line</th>\n",
       "      <th>Current ART Regimen</th>\n",
       "      <th>Optimization</th>\n",
       "      <th>DTG Based</th>\n",
       "      <th>VL Updated_</th>\n",
       "      <th>...</th>\n",
       "      <th>Switched to 2nd line (Y/N/NE)</th>\n",
       "      <th>No. of IACs received i.e none, 1,2, 3, 4, 5, 6</th>\n",
       "      <th>IAC</th>\n",
       "      <th>If completed 3 IAC sessions. State date of HIVDRT sampling</th>\n",
       "      <th>TPT                        1-Never initiated         2-On INH        3-Defaulted        4-Stopped due to SE        5- Completed</th>\n",
       "      <th>MMD (Months of ART refill at last visit)</th>\n",
       "      <th>mmdmonths</th>\n",
       "      <th>MMD Received</th>\n",
       "      <th>Screened for OVC</th>\n",
       "      <th>Eligible and Enrolled in OVC</th>\n",
       "    </tr>\n",
       "  </thead>\n",
       "  <tbody>\n",
       "    <tr>\n",
       "      <th>count</th>\n",
       "      <td>1165</td>\n",
       "      <td>1165</td>\n",
       "      <td>1165</td>\n",
       "      <td>1165.000000</td>\n",
       "      <td>1165</td>\n",
       "      <td>1102</td>\n",
       "      <td>1164</td>\n",
       "      <td>1164</td>\n",
       "      <td>1165</td>\n",
       "      <td>1165</td>\n",
       "      <td>...</td>\n",
       "      <td>132</td>\n",
       "      <td>73.000000</td>\n",
       "      <td>281</td>\n",
       "      <td>2</td>\n",
       "      <td>990</td>\n",
       "      <td>1148</td>\n",
       "      <td>1165.000000</td>\n",
       "      <td>1165</td>\n",
       "      <td>1165</td>\n",
       "      <td>1165</td>\n",
       "    </tr>\n",
       "    <tr>\n",
       "      <th>unique</th>\n",
       "      <td>5</td>\n",
       "      <td>13</td>\n",
       "      <td>2</td>\n",
       "      <td>NaN</td>\n",
       "      <td>2</td>\n",
       "      <td>6</td>\n",
       "      <td>17</td>\n",
       "      <td>2</td>\n",
       "      <td>2</td>\n",
       "      <td>3</td>\n",
       "      <td>...</td>\n",
       "      <td>5</td>\n",
       "      <td>NaN</td>\n",
       "      <td>2</td>\n",
       "      <td>2</td>\n",
       "      <td>5</td>\n",
       "      <td>33</td>\n",
       "      <td>NaN</td>\n",
       "      <td>6</td>\n",
       "      <td>5</td>\n",
       "      <td>3</td>\n",
       "    </tr>\n",
       "    <tr>\n",
       "      <th>top</th>\n",
       "      <td>Ibanda</td>\n",
       "      <td>Ruhoko HC IV</td>\n",
       "      <td>F</td>\n",
       "      <td>NaN</td>\n",
       "      <td>10-19yrs</td>\n",
       "      <td>1st</td>\n",
       "      <td>TDF/3TC/DTG</td>\n",
       "      <td>Opt</td>\n",
       "      <td>Yes</td>\n",
       "      <td>Not updated</td>\n",
       "      <td>...</td>\n",
       "      <td>N</td>\n",
       "      <td>NaN</td>\n",
       "      <td>No</td>\n",
       "      <td>04/03/2021</td>\n",
       "      <td>Completed</td>\n",
       "      <td>90</td>\n",
       "      <td>NaN</td>\n",
       "      <td>3 Months</td>\n",
       "      <td>Screened and Eligible</td>\n",
       "      <td>Eligible Linked and Enrolled</td>\n",
       "    </tr>\n",
       "    <tr>\n",
       "      <th>freq</th>\n",
       "      <td>485</td>\n",
       "      <td>152</td>\n",
       "      <td>666</td>\n",
       "      <td>NaN</td>\n",
       "      <td>742</td>\n",
       "      <td>721</td>\n",
       "      <td>567</td>\n",
       "      <td>1147</td>\n",
       "      <td>847</td>\n",
       "      <td>547</td>\n",
       "      <td>...</td>\n",
       "      <td>72</td>\n",
       "      <td>NaN</td>\n",
       "      <td>208</td>\n",
       "      <td>1</td>\n",
       "      <td>638</td>\n",
       "      <td>260</td>\n",
       "      <td>NaN</td>\n",
       "      <td>440</td>\n",
       "      <td>603</td>\n",
       "      <td>516</td>\n",
       "    </tr>\n",
       "    <tr>\n",
       "      <th>mean</th>\n",
       "      <td>NaN</td>\n",
       "      <td>NaN</td>\n",
       "      <td>NaN</td>\n",
       "      <td>11.488412</td>\n",
       "      <td>NaN</td>\n",
       "      <td>NaN</td>\n",
       "      <td>NaN</td>\n",
       "      <td>NaN</td>\n",
       "      <td>NaN</td>\n",
       "      <td>NaN</td>\n",
       "      <td>...</td>\n",
       "      <td>NaN</td>\n",
       "      <td>2.246575</td>\n",
       "      <td>NaN</td>\n",
       "      <td>NaN</td>\n",
       "      <td>NaN</td>\n",
       "      <td>NaN</td>\n",
       "      <td>7.001717</td>\n",
       "      <td>NaN</td>\n",
       "      <td>NaN</td>\n",
       "      <td>NaN</td>\n",
       "    </tr>\n",
       "    <tr>\n",
       "      <th>std</th>\n",
       "      <td>NaN</td>\n",
       "      <td>NaN</td>\n",
       "      <td>NaN</td>\n",
       "      <td>4.795571</td>\n",
       "      <td>NaN</td>\n",
       "      <td>NaN</td>\n",
       "      <td>NaN</td>\n",
       "      <td>NaN</td>\n",
       "      <td>NaN</td>\n",
       "      <td>NaN</td>\n",
       "      <td>...</td>\n",
       "      <td>NaN</td>\n",
       "      <td>0.996951</td>\n",
       "      <td>NaN</td>\n",
       "      <td>NaN</td>\n",
       "      <td>NaN</td>\n",
       "      <td>NaN</td>\n",
       "      <td>47.526625</td>\n",
       "      <td>NaN</td>\n",
       "      <td>NaN</td>\n",
       "      <td>NaN</td>\n",
       "    </tr>\n",
       "    <tr>\n",
       "      <th>min</th>\n",
       "      <td>NaN</td>\n",
       "      <td>NaN</td>\n",
       "      <td>NaN</td>\n",
       "      <td>0.000000</td>\n",
       "      <td>NaN</td>\n",
       "      <td>NaN</td>\n",
       "      <td>NaN</td>\n",
       "      <td>NaN</td>\n",
       "      <td>NaN</td>\n",
       "      <td>NaN</td>\n",
       "      <td>...</td>\n",
       "      <td>NaN</td>\n",
       "      <td>1.000000</td>\n",
       "      <td>NaN</td>\n",
       "      <td>NaN</td>\n",
       "      <td>NaN</td>\n",
       "      <td>NaN</td>\n",
       "      <td>0.000000</td>\n",
       "      <td>NaN</td>\n",
       "      <td>NaN</td>\n",
       "      <td>NaN</td>\n",
       "    </tr>\n",
       "    <tr>\n",
       "      <th>25%</th>\n",
       "      <td>NaN</td>\n",
       "      <td>NaN</td>\n",
       "      <td>NaN</td>\n",
       "      <td>8.000000</td>\n",
       "      <td>NaN</td>\n",
       "      <td>NaN</td>\n",
       "      <td>NaN</td>\n",
       "      <td>NaN</td>\n",
       "      <td>NaN</td>\n",
       "      <td>NaN</td>\n",
       "      <td>...</td>\n",
       "      <td>NaN</td>\n",
       "      <td>2.000000</td>\n",
       "      <td>NaN</td>\n",
       "      <td>NaN</td>\n",
       "      <td>NaN</td>\n",
       "      <td>NaN</td>\n",
       "      <td>2.000000</td>\n",
       "      <td>NaN</td>\n",
       "      <td>NaN</td>\n",
       "      <td>NaN</td>\n",
       "    </tr>\n",
       "    <tr>\n",
       "      <th>50%</th>\n",
       "      <td>NaN</td>\n",
       "      <td>NaN</td>\n",
       "      <td>NaN</td>\n",
       "      <td>11.000000</td>\n",
       "      <td>NaN</td>\n",
       "      <td>NaN</td>\n",
       "      <td>NaN</td>\n",
       "      <td>NaN</td>\n",
       "      <td>NaN</td>\n",
       "      <td>NaN</td>\n",
       "      <td>...</td>\n",
       "      <td>NaN</td>\n",
       "      <td>2.000000</td>\n",
       "      <td>NaN</td>\n",
       "      <td>NaN</td>\n",
       "      <td>NaN</td>\n",
       "      <td>NaN</td>\n",
       "      <td>3.000000</td>\n",
       "      <td>NaN</td>\n",
       "      <td>NaN</td>\n",
       "      <td>NaN</td>\n",
       "    </tr>\n",
       "    <tr>\n",
       "      <th>75%</th>\n",
       "      <td>NaN</td>\n",
       "      <td>NaN</td>\n",
       "      <td>NaN</td>\n",
       "      <td>16.000000</td>\n",
       "      <td>NaN</td>\n",
       "      <td>NaN</td>\n",
       "      <td>NaN</td>\n",
       "      <td>NaN</td>\n",
       "      <td>NaN</td>\n",
       "      <td>NaN</td>\n",
       "      <td>...</td>\n",
       "      <td>NaN</td>\n",
       "      <td>3.000000</td>\n",
       "      <td>NaN</td>\n",
       "      <td>NaN</td>\n",
       "      <td>NaN</td>\n",
       "      <td>NaN</td>\n",
       "      <td>3.000000</td>\n",
       "      <td>NaN</td>\n",
       "      <td>NaN</td>\n",
       "      <td>NaN</td>\n",
       "    </tr>\n",
       "    <tr>\n",
       "      <th>max</th>\n",
       "      <td>NaN</td>\n",
       "      <td>NaN</td>\n",
       "      <td>NaN</td>\n",
       "      <td>19.000000</td>\n",
       "      <td>NaN</td>\n",
       "      <td>NaN</td>\n",
       "      <td>NaN</td>\n",
       "      <td>NaN</td>\n",
       "      <td>NaN</td>\n",
       "      <td>NaN</td>\n",
       "      <td>...</td>\n",
       "      <td>NaN</td>\n",
       "      <td>5.000000</td>\n",
       "      <td>NaN</td>\n",
       "      <td>NaN</td>\n",
       "      <td>NaN</td>\n",
       "      <td>NaN</td>\n",
       "      <td>1480.000000</td>\n",
       "      <td>NaN</td>\n",
       "      <td>NaN</td>\n",
       "      <td>NaN</td>\n",
       "    </tr>\n",
       "  </tbody>\n",
       "</table>\n",
       "<p>11 rows × 24 columns</p>\n",
       "</div>"
      ],
      "text/plain": [
       "       District          Site   Sex          Age    AgeCat  \\\n",
       "count      1165          1165  1165  1165.000000      1165   \n",
       "unique        5            13     2          NaN         2   \n",
       "top      Ibanda  Ruhoko HC IV     F          NaN  10-19yrs   \n",
       "freq        485           152   666          NaN       742   \n",
       "mean        NaN           NaN   NaN    11.488412       NaN   \n",
       "std         NaN           NaN   NaN     4.795571       NaN   \n",
       "min         NaN           NaN   NaN     0.000000       NaN   \n",
       "25%         NaN           NaN   NaN     8.000000       NaN   \n",
       "50%         NaN           NaN   NaN    11.000000       NaN   \n",
       "75%         NaN           NaN   NaN    16.000000       NaN   \n",
       "max         NaN           NaN   NaN    19.000000       NaN   \n",
       "\n",
       "       current_art_regimen_line Current ART Regimen Optimization DTG Based  \\\n",
       "count                      1102                1164         1164      1165   \n",
       "unique                        6                  17            2         2   \n",
       "top                         1st         TDF/3TC/DTG          Opt       Yes   \n",
       "freq                        721                 567         1147       847   \n",
       "mean                        NaN                 NaN          NaN       NaN   \n",
       "std                         NaN                 NaN          NaN       NaN   \n",
       "min                         NaN                 NaN          NaN       NaN   \n",
       "25%                         NaN                 NaN          NaN       NaN   \n",
       "50%                         NaN                 NaN          NaN       NaN   \n",
       "75%                         NaN                 NaN          NaN       NaN   \n",
       "max                         NaN                 NaN          NaN       NaN   \n",
       "\n",
       "        VL Updated_  ... Switched to 2nd line (Y/N/NE)  \\\n",
       "count          1165  ...                           132   \n",
       "unique            3  ...                             5   \n",
       "top     Not updated  ...                             N   \n",
       "freq            547  ...                            72   \n",
       "mean            NaN  ...                           NaN   \n",
       "std             NaN  ...                           NaN   \n",
       "min             NaN  ...                           NaN   \n",
       "25%             NaN  ...                           NaN   \n",
       "50%             NaN  ...                           NaN   \n",
       "75%             NaN  ...                           NaN   \n",
       "max             NaN  ...                           NaN   \n",
       "\n",
       "       No. of IACs received i.e none, 1,2, 3, 4, 5, 6   IAC   \\\n",
       "count                                         73.000000  281   \n",
       "unique                                              NaN    2   \n",
       "top                                                 NaN   No   \n",
       "freq                                                NaN  208   \n",
       "mean                                           2.246575  NaN   \n",
       "std                                            0.996951  NaN   \n",
       "min                                            1.000000  NaN   \n",
       "25%                                            2.000000  NaN   \n",
       "50%                                            2.000000  NaN   \n",
       "75%                                            3.000000  NaN   \n",
       "max                                            5.000000  NaN   \n",
       "\n",
       "       If completed 3 IAC sessions. State date of HIVDRT sampling   \\\n",
       "count                                                   2            \n",
       "unique                                                  2            \n",
       "top                                            04/03/2021            \n",
       "freq                                                    1            \n",
       "mean                                                  NaN            \n",
       "std                                                   NaN            \n",
       "min                                                   NaN            \n",
       "25%                                                   NaN            \n",
       "50%                                                   NaN            \n",
       "75%                                                   NaN            \n",
       "max                                                   NaN            \n",
       "\n",
       "       TPT                        1-Never initiated         2-On INH        3-Defaulted        4-Stopped due to SE        5- Completed  \\\n",
       "count                                                 990                                                                                \n",
       "unique                                                  5                                                                                \n",
       "top                                             Completed                                                                                \n",
       "freq                                                  638                                                                                \n",
       "mean                                                  NaN                                                                                \n",
       "std                                                   NaN                                                                                \n",
       "min                                                   NaN                                                                                \n",
       "25%                                                   NaN                                                                                \n",
       "50%                                                   NaN                                                                                \n",
       "75%                                                   NaN                                                                                \n",
       "max                                                   NaN                                                                                \n",
       "\n",
       "        MMD (Months of ART refill at last visit)    mmdmonths MMD Received  \\\n",
       "count                                       1148  1165.000000         1165   \n",
       "unique                                        33          NaN            6   \n",
       "top                                           90          NaN     3 Months   \n",
       "freq                                         260          NaN          440   \n",
       "mean                                         NaN     7.001717          NaN   \n",
       "std                                          NaN    47.526625          NaN   \n",
       "min                                          NaN     0.000000          NaN   \n",
       "25%                                          NaN     2.000000          NaN   \n",
       "50%                                          NaN     3.000000          NaN   \n",
       "75%                                          NaN     3.000000          NaN   \n",
       "max                                          NaN  1480.000000          NaN   \n",
       "\n",
       "             Screened for OVC  Eligible and Enrolled in OVC  \n",
       "count                    1165                          1165  \n",
       "unique                      5                             3  \n",
       "top     Screened and Eligible  Eligible Linked and Enrolled  \n",
       "freq                      603                           516  \n",
       "mean                      NaN                           NaN  \n",
       "std                       NaN                           NaN  \n",
       "min                       NaN                           NaN  \n",
       "25%                       NaN                           NaN  \n",
       "50%                       NaN                           NaN  \n",
       "75%                       NaN                           NaN  \n",
       "max                       NaN                           NaN  \n",
       "\n",
       "[11 rows x 24 columns]"
      ]
     },
     "execution_count": 6,
     "metadata": {},
     "output_type": "execute_result"
    }
   ],
   "source": [
    "import pandas as pd\n",
    "import matplotlib.pyplot as plt\n",
    "import seaborn as sns\n",
    "\n",
    "# Loaded the data\n",
    "file_path = '/Users/mac/Desktop/VL_Data.csv'\n",
    "data = pd.read_csv(file_path)\n",
    "\n",
    "# Viewed the first few rows\n",
    "data.head()\n",
    "\n",
    "#  Overview of the dataset#\n",
    "# Checked column types and null values\n",
    "data.info()\n",
    "\n",
    "# Summary statistics for numeric and categorical data\n",
    "data.describe(include='all')"
   ]
  },
  {
   "cell_type": "markdown",
   "id": "8a1619ec",
   "metadata": {},
   "source": [
    "### Key Observations\n",
    "1. Column Names:\n",
    "The dataset’s column names were inconsistent, with spaces and mixed cases. I standardized them by stripping extra spaces, converting to lowercase, and replacing spaces with underscores for easier access during analysis.\n",
    "\n",
    "2. Data Types:\n",
    "Some columns, such as MMD months, were incorrectly formatted as objects. I converted them to numeric types for accurate analysis. Categorical columns like current_art_regimen_line were properly recognized as objects for comparison.\n",
    "\n",
    "3. Missing Data:\n",
    "Several columns had missing data (e.g., 63 missing entries in current_art_regimen_line). I replaced placeholders like 'NE' with pd.NA for consistency and identified columns needing imputation or exclusion based on the amount of missing data."
   ]
  },
  {
   "cell_type": "markdown",
   "id": "13b9ecf9",
   "metadata": {},
   "source": [
    "## 1.4 Cleaning of the data\n",
    "To ensure the dataset was ready for data analysis, I focused on cleaning and preprocessing tasks that addressed inconsistencies and missing data, and ensured the data types were correctly formatted for accurate analysis. The tasks included the following:\n",
    "\n",
    "- Standardizing column names: The column names in the dataset contained inconsistencies such as spaces and mixed cases, which made it harder to work with. I standardized them by stripping extra spaces, converting all names to lowercase, and replacing spaces with underscores (e.g., changing VL Updated_ to vl_updated_ and MMD (Months of ART refill at last visit) to mmd_months).\n",
    "\n",
    "- Handling missing data: I observed that some columns had missing values, often marked as 'NE' or blank fields. To ensure consistency, I replaced 'NE' with NaN, which allowed me to handle missing data more effectively during analysis.\n",
    "\n",
    "- Converting data types: Certain columns, such as mmd_months, were incorrectly classified as object types rather than numeric. I converted these to numeric data types to facilitate accurate calculations and analysis, ensuring that values like age and months of ART refill could be properly analyzed.\n",
    "\n",
    "These steps ensured that the dataset was clean, consistent, and ready for deeper analysis.\n",
    "\n",
    "Below is the code I used for cleaning the data in Python: \n",
    "\n",
    "\n",
    "\n",
    "\n",
    "\n",
    "\n",
    "\n"
   ]
  },
  {
   "cell_type": "code",
   "execution_count": 7,
   "id": "be378221",
   "metadata": {},
   "outputs": [
    {
     "name": "stdout",
     "output_type": "stream",
     "text": [
      "district                                                                                                                              0\n",
      "site                                                                                                                                  0\n",
      "sex                                                                                                                                   0\n",
      "age                                                                                                                                   0\n",
      "agecat                                                                                                                                0\n",
      "current_art_regimen_line                                                                                                             63\n",
      "current_art_regimen                                                                                                                   1\n",
      "optimization                                                                                                                          1\n",
      "dtg_based                                                                                                                             0\n",
      "vl_updated_                                                                                                                           0\n",
      "vl_suppression                                                                                                                        0\n",
      "vl_updated_(y/n/ne)                                                                                                                  98\n",
      "if_not_up-to-date_vl_state_sample_collection_date                                                                                  1090\n",
      "substituted_to_optimal_regimen_(y/n/ne)                                                                                             707\n",
      "switched_to_2nd_line_(y/n/ne)                                                                                                      1033\n",
      "no._of_iacs_received_i.e_none,_1,2,_3,_4,_5,_6                                                                                     1092\n",
      "iac                                                                                                                                 884\n",
      "if_completed_3_iac_sessions._state_date_of_hivdrt_sampling                                                                         1163\n",
      "tpt________________________1-never_initiated_________2-on_inh________3-defaulted________4-stopped_due_to_se________5-_completed     175\n",
      "mmd_(months_of_art_refill_at_last_visit)                                                                                             17\n",
      "mmdmonths                                                                                                                             0\n",
      "mmd_received                                                                                                                          0\n",
      "screened_for_ovc                                                                                                                      0\n",
      "eligible_and_enrolled_in_ovc                                                                                                          0\n",
      "dtype: int64\n"
     ]
    }
   ],
   "source": [
    "# Cleaning the dataset ##\n",
    "# Step 1: Standardizing column names\n",
    "data.columns = data.columns.str.strip().str.lower().str.replace(' ', '_')\n",
    "\n",
    "# Step 2: Replacing 'NE' and blanks with NaN for missing values\n",
    "data = data.replace('NaN', pd.NA)\n",
    "\n",
    "# Step 3: Converting relevant columns to numeric or categorical types\n",
    "# Convert 'age' to numeric\n",
    "data['age'] = pd.to_numeric(data['age'], errors='coerce')\n",
    "\n",
    "# Convert MMD months to numeric\n",
    "data['mmdmonths'] = pd.to_numeric(data['mmdmonths'], errors='coerce')\n",
    "\n",
    "# Step 4: Check for missing values (count missing values in each column)\n",
    "print(data.isnull().sum())\n"
   ]
  },
  {
   "cell_type": "markdown",
   "id": "35deb670",
   "metadata": {},
   "source": [
    "## 1.5 Exploratory Data Analysis \n",
    "After cleaning the dataset, I conducted exploratory data analysis to uncover key patterns and distributions. This helped me in gaining insights into the data and developing a deeper understanding of patient characteristics and treatment outcomes.The Key areas I explored include the following:\n",
    "- Age distribution\n",
    "- ART regimen line distribution\n",
    "- Viral load suppression\n",
    "\n",
    "These analyses helped in identifying trends and gaps in treatment, which are valuable for program improvement and understanding patient outcomes more comprehensively."
   ]
  },
  {
   "cell_type": "markdown",
   "id": "7f8fb7a1",
   "metadata": {},
   "source": [
    "### Age Distribution of Children and Adolescents living with HIV: \n",
    "- By examining the distribution of patient ages, I was able to understand the age demographic of the children and adolescents living with HIV. This helped in identifying trends in different age groups and understanding how age impacts treatment outcomes.\n",
    "Below is the Python Code I used for visualizing the age distribution: "
   ]
  },
  {
   "cell_type": "code",
   "execution_count": 8,
   "id": "5cf4530c",
   "metadata": {},
   "outputs": [
    {
     "data": {
      "image/png": "[encoded data removed]",
      "text/plain": [
       "<Figure size 800x500 with 1 Axes>"
      ]
     },
     "metadata": {},
     "output_type": "display_data"
    }
   ],
   "source": [
    "# Age Distribution of Patients\n",
    "plt.figure(figsize=(8, 5))\n",
    "sns.histplot(data['age'], bins=10, kde=True, color='blue')\n",
    "plt.title('Age Distribution of Patients')\n",
    "plt.xlabel('Age')\n",
    "plt.ylabel('Count')\n",
    "plt.show()"
   ]
  },
  {
   "cell_type": "markdown",
   "id": "4a74e9d2",
   "metadata": {},
   "source": [
    "### ART Regimen Line Distribution: \n",
    "- I explored which ART regimen lines (1st, 2nd, or 3rd) were most commonly used among the children and adolescents living with HIV. This insight was essential for assessing the level of treatment optimization across the different groups.\n",
    "\n",
    "Below is the Python Code I used for visualizing the ART Regimen Line Distribution: "
   ]
  },
  {
   "cell_type": "code",
   "execution_count": 9,
   "id": "a48542b1",
   "metadata": {},
   "outputs": [
    {
     "data": {
      "image/png": "[encoded data removed]",
      "text/plain": [
       "<Figure size 800x500 with 1 Axes>"
      ]
     },
     "metadata": {},
     "output_type": "display_data"
    }
   ],
   "source": [
    "# ART Regimen Line Distribution\n",
    "plt.figure(figsize=(8, 5))\n",
    "sns.countplot(data=data, x='current_art_regimen_line', palette='Set2')\n",
    "plt.title('ART Regimen Line Distribution')\n",
    "plt.xlabel('ART Regimen Line')\n",
    "plt.ylabel('Count')\n",
    "plt.show()"
   ]
  },
  {
   "cell_type": "markdown",
   "id": "d5f2bb5c",
   "metadata": {},
   "source": [
    "### Viral Load Suppression: \n",
    "- The analysis on the proportion of children and adolescents with a suppressed viral load provided a critical measure of the effectiveness of HIV care and treatment. This analysis helped me assess the success of ART regimens in achieving viral load suppression.\n",
    "\n",
    "Below is the Python Code I used for visualizing Viral Load Suppression:"
   ]
  },
  {
   "cell_type": "code",
   "execution_count": 10,
   "id": "409e4b1a",
   "metadata": {},
   "outputs": [
    {
     "name": "stdout",
     "output_type": "stream",
     "text": [
      "VL Updated Counts:\n",
      " Yes             580\n",
      "No              446\n",
      "Not Eligible     41\n",
      "Name: vl_updated_(y/n/ne), dtype: int64\n"
     ]
    },
    {
     "data": {
      "image/png": "[encoded data removed]",
      "text/plain": [
       "<Figure size 640x480 with 1 Axes>"
      ]
     },
     "metadata": {},
     "output_type": "display_data"
    }
   ],
   "source": [
    "# Viral Load Updated Status\n",
    "vl_updated_counts = data['vl_updated_(y/n/ne)'].value_counts()\n",
    "print(\"VL Updated Counts:\\n\", vl_updated_counts)\n",
    "vl_updated_counts.plot(kind='bar', color=['green', 'orange', 'red'])\n",
    "plt.title('Viral Load Updated Status')\n",
    "plt.xlabel('Viral Load Status')\n",
    "plt.ylabel('Number of Patients')\n",
    "plt.show()"
   ]
  },
  {
   "cell_type": "markdown",
   "id": "abee7f25",
   "metadata": {},
   "source": [
    "## 1.6 Identifying Key Gaps and Trends\n",
    "In this step, I focused on uncovering key gaps in patient care, ART regimen adherence, and treatment outcomes. By identifying specific issues, I was able to pinpoint areas where improvements could have a significant impact on patient health and program effectiveness. The gaps identified include the following: \n",
    "- Orphans and vulnerable children (OVC) enrollment gap\n",
    "- Non-optimal ART regimens\n",
    "- Non-suppressed viral load"
   ]
  },
  {
   "cell_type": "markdown",
   "id": "6b90fc73",
   "metadata": {},
   "source": [
    "### Orphans and Vulnerable Children (OVC) Enrollment Gap: \n",
    "I observed that while many children and adolescents living with HIV were eligible for the Orphans and Vulnerable Children (OVC) program, some of them had not yet enrolled. This gap points to an opportunity for better engagement and outreach to ensure that all children and adolescents who are eligible are enrolled and able to receive OVC services.\n",
    "\n",
    "Below is the Python code for Orphans and Vulnerable Children (OVC) enrollment gap:"
   ]
  },
  {
   "cell_type": "code",
   "execution_count": 11,
   "id": "96169cd8",
   "metadata": {},
   "outputs": [
    {
     "name": "stdout",
     "output_type": "stream",
     "text": [
      "Number of patients eligible but not enrolled in OVC: 244\n"
     ]
    }
   ],
   "source": [
    "# Patients eligible but not enrolled in OVC programs\n",
    "ovc_gap = data[(data['screened_for_ovc'] == 'Screened and Eligible') &\n",
    "               (data['eligible_and_enrolled_in_ovc'] == 'NOT ENROLLED')]\n",
    "print(f\"Number of patients eligible but not enrolled in OVC: {len(ovc_gap)}\")"
   ]
  },
  {
   "cell_type": "markdown",
   "id": "2b3c3804",
   "metadata": {},
   "source": [
    "### Non-Optimal ART Regimens: \n",
    "A significant number of patients were still on ART regimens that were not optimized for their condition. This could have affected the effectiveness of treatment and health outcomes, which highlighted the need for closer monitoring and timely regimen adjustments.\n",
    "\n",
    "Below is the Python code for Non-optimal ART regimens:"
   ]
  },
  {
   "cell_type": "code",
   "execution_count": 12,
   "id": "43b54f24",
   "metadata": {},
   "outputs": [
    {
     "name": "stdout",
     "output_type": "stream",
     "text": [
      "Number of patients not on optimal ART regimens: 18\n"
     ]
    }
   ],
   "source": [
    "# Patients not on optimal ART regimens\n",
    "non_optimal = data[data['optimization'] != 'Opt']\n",
    "print(f\"Number of patients not on optimal ART regimens: {len(non_optimal)}\")"
   ]
  },
  {
   "cell_type": "markdown",
   "id": "bcf88e8e",
   "metadata": {},
   "source": [
    "### Non-Suppresssed Viral Load: \n",
    "While many children and adolescents living with HIV adhered to their ART regimens, some still failed to achieve viral load suppression. This suggested potential issues with the regimen’s effectiveness or patient-specific factors, requiring further investigation and possible intervention strategies to improve viral control.\n",
    "\n",
    "Below is the Python code for Non-suppressed Viral Load:"
   ]
  },
  {
   "cell_type": "code",
   "execution_count": 13,
   "id": "419e10d8",
   "metadata": {},
   "outputs": [
    {
     "name": "stdout",
     "output_type": "stream",
     "text": [
      "VL Suppression Counts:\n",
      " Suppressed         840\n",
      "None suppressed    252\n",
      "Not Eligible        72\n",
      "Not Eligible         1\n",
      "Name: vl_suppression, dtype: int64\n"
     ]
    }
   ],
   "source": [
    "# Count of VL suppression\n",
    "vl_suppression_counts = data['vl_suppression'].value_counts()\n",
    "print(\"VL Suppression Counts:\\n\", vl_suppression_counts)"
   ]
  },
  {
   "cell_type": "markdown",
   "id": "0cc863c5",
   "metadata": {},
   "source": [
    "## 1.7 Visualization of the Findings\n",
    "To clearly communicate the findings from the analysis, I used visualizations to highlight key gaps and trends in the dataset.\n",
    "\n",
    "### Visualization of Orphans and Vulnerable Children (OVC) Enrollment Gap:\n",
    "I visualized the gap in OVC enrollment by district to understand the regional disparities. The bar chart below shows the number of children and adolescentsliving with HIV who were eligible but not enrolled in the program, revealing where further outreach and intervention was most needed.\n",
    "\n",
    "Below is the Python code for the visualization of OVC enrollment gap:"
   ]
  },
  {
   "cell_type": "code",
   "execution_count": 14,
   "id": "60ad935b",
   "metadata": {},
   "outputs": [
    {
     "data": {
      "image/png": "[encoded data removed]",
      "text/plain": [
       "<Figure size 800x500 with 1 Axes>"
      ]
     },
     "metadata": {},
     "output_type": "display_data"
    }
   ],
   "source": [
    "# Gap in OVC Enrollment\n",
    "plt.figure(figsize=(8, 5))\n",
    "ovc_gap['district'].value_counts().plot(kind='bar', color='skyblue')\n",
    "plt.title('Gap in OVC Enrollment by District')\n",
    "plt.xlabel('District')\n",
    "plt.ylabel('Number of Patients')\n",
    "plt.show()"
   ]
  },
  {
   "cell_type": "markdown",
   "id": "e2e8e093",
   "metadata": {},
   "source": [
    "### Visualization of Viral Load Suppression by ART Regimen Line:\n",
    "I examined the relationship between ART regimen lines and VL suppression. This count plot showed the number of patients on each ART regimen line (1st, 2nd, 3rd) and their corresponding viral load suppression status. It also showed whether the current ART line correlated with viral suppression. \n",
    "\n",
    "Below is the Python code for the visualization of viral load suppression by ART regimen line:"
   ]
  },
  {
   "cell_type": "code",
   "execution_count": 15,
   "id": "7e9a93d1",
   "metadata": {},
   "outputs": [
    {
     "data": {
      "image/png": "[encoded data removed]",
      "text/plain": [
       "<Figure size 800x500 with 1 Axes>"
      ]
     },
     "metadata": {},
     "output_type": "display_data"
    }
   ],
   "source": [
    "# VL Suppression\n",
    "plt.figure(figsize=(8, 5))\n",
    "vl_suppression_counts.plot(kind='pie', autopct='%1.1f%%', startangle=90, colors=['green', 'yellow', 'red'])\n",
    "plt.title('Viral Load Suppression Status')\n",
    "plt.ylabel('')\n",
    "plt.show()"
   ]
  },
  {
   "cell_type": "markdown",
   "id": "a0682d6a",
   "metadata": {},
   "source": [
    "### Summary Table of Key Metrics: \n",
    "i calculated key metrics to provide an overview of the current status of the patient cohort in relation to treatment optimization and viral load updates. These metrics helped to summarized the health outcomes and program engagement levels of the children and adolescents living with HIV.\n",
    "\n",
    "Below is the Python code used to develop the summary table of key metrics:"
   ]
  },
  {
   "cell_type": "code",
   "execution_count": 16,
   "id": "85634028",
   "metadata": {},
   "outputs": [
    {
     "name": "stdout",
     "output_type": "stream",
     "text": [
      "                      Metric        Value\n",
      "0             Total Patients  1165.000000\n",
      "1  % on Optimal ART Regimens    98.454936\n",
      "2          % with VL Updated     0.000000\n"
     ]
    }
   ],
   "source": [
    "# Summary Table of Key Metrics ##\n",
    "\n",
    "# Calculate key metrics\n",
    "total_patients = len(data)\n",
    "optimal_art_regimens = (data['optimization'] == 'Opt').sum()\n",
    "vl_updated = (data['vl_updated_(y/n/ne)'] == 'y').sum()\n",
    "\n",
    "# Create summary table\n",
    "summary = {\n",
    "    'Total Patients': total_patients,\n",
    "    '% on Optimal ART Regimens': (optimal_art_regimens / total_patients) * 100,\n",
    "    '% with VL Updated': (vl_updated / total_patients) * 100,\n",
    "}\n",
    "\n",
    "# Convert to DataFrame for display\n",
    "summary_df = pd.DataFrame(list(summary.items()), columns=['Metric', 'Value'])\n",
    "print(summary_df)"
   ]
  },
  {
   "cell_type": "markdown",
   "id": "6ec91d08",
   "metadata": {},
   "source": [
    "## 1.8 Key findings and Recommendations\n",
    "### Key findings:\n",
    "- ART Regimen Usage: Most children and adolescents living with HIV were on first-line ART, which indicated effectiveness, but the low usage of second and third-line regimens suggested potential under-monitoring or missed opportunities for regimen optimization.\n",
    "- Viral Load Suppression: While many children and adolescents living with HIV showed successful viral load suppression, there were still some who were not suppressed, suggesting adherence or regimen effectiveness issues.\n",
    "- Orphans adn Vulnerable Children Enrollment: There was a significant gap in enrolling eligible children in the OVC program, limiting support for vulnerable children and adolescents.\n",
    "\n",
    "### Recommendations:\n",
    "The recommendations made included the following:\n",
    "- Improve on the Orphan and Vulnerable Children (OVC) program enrollment. This can be done by strengthening efforts to link eligible children and adolescents living with HIV to the OVC program through improved screening and outreach by community health workers.\n",
    "- Optimize ART Regimens: Investigate and address barriers to ART optimization for children and adolescents not on the ideal regimens, ensuring timely switches and better patient education.\n",
    "- Improve Viral Load Suppression: Focus on children and adolescents struggling with viral load suppression by identifying adherence barriers, exploring alternative treatments, and offering more personalized care."
   ]
  },
  {
   "cell_type": "code",
   "execution_count": null,
   "id": "5def7f4e",
   "metadata": {},
   "outputs": [],
   "source": []
  }
 ],
 "metadata": {
  "kernelspec": {
   "display_name": "Python 3 (ipykernel)",
   "language": "python",
   "name": "python3"
  },
  "language_info": {
   "codemirror_mode": {
    "name": "ipython",
    "version": 3
   },
   "file_extension": ".py",
   "mimetype": "text/x-python",
   "name": "python",
   "nbconvert_exporter": "python",
   "pygments_lexer": "ipython3",
   "version": "3.7.9"
  }
 },
 "nbformat": 4,
 "nbformat_minor": 5
}
